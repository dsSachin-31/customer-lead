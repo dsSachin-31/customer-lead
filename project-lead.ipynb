{
 "cells": [
  {
   "cell_type": "markdown",
   "id": "215e1f92",
   "metadata": {
    "papermill": {
     "duration": 0.00905,
     "end_time": "2024-04-30T02:20:55.961218",
     "exception": false,
     "start_time": "2024-04-30T02:20:55.952168",
     "status": "completed"
    },
    "tags": []
   },
   "source": [
    "# Import library"
   ]
  },
  {
   "cell_type": "code",
   "execution_count": 1,
   "id": "856b8a2f",
   "metadata": {
    "execution": {
     "iopub.execute_input": "2024-04-30T02:20:55.982671Z",
     "iopub.status.busy": "2024-04-30T02:20:55.981928Z",
     "iopub.status.idle": "2024-04-30T02:20:58.438444Z",
     "shell.execute_reply": "2024-04-30T02:20:58.437211Z"
    },
    "papermill": {
     "duration": 2.469851,
     "end_time": "2024-04-30T02:20:58.441630",
     "exception": false,
     "start_time": "2024-04-30T02:20:55.971779",
     "status": "completed"
    },
    "tags": []
   },
   "outputs": [],
   "source": [
    "import numpy as np\n",
    "import pandas as pd\n",
    "import matplotlib.pyplot as plt\n",
    "import seaborn as sns\n"
   ]
  },
  {
   "cell_type": "code",
   "execution_count": 2,
   "id": "b0fa7bc9",
   "metadata": {
    "execution": {
     "iopub.execute_input": "2024-04-30T02:20:58.462000Z",
     "iopub.status.busy": "2024-04-30T02:20:58.461461Z",
     "iopub.status.idle": "2024-04-30T02:20:58.589781Z",
     "shell.execute_reply": "2024-04-30T02:20:58.588450Z"
    },
    "papermill": {
     "duration": 0.142381,
     "end_time": "2024-04-30T02:20:58.592984",
     "exception": false,
     "start_time": "2024-04-30T02:20:58.450603",
     "status": "completed"
    },
    "tags": []
   },
   "outputs": [],
   "source": [
    "data = pd.read_csv(\"/kaggle/input/project-4/Leads.csv\")"
   ]
  },
  {
   "cell_type": "code",
   "execution_count": 3,
   "id": "0a8f9aab",
   "metadata": {
    "execution": {
     "iopub.execute_input": "2024-04-30T02:20:58.611919Z",
     "iopub.status.busy": "2024-04-30T02:20:58.611500Z",
     "iopub.status.idle": "2024-04-30T02:20:58.659090Z",
     "shell.execute_reply": "2024-04-30T02:20:58.657612Z"
    },
    "papermill": {
     "duration": 0.059995,
     "end_time": "2024-04-30T02:20:58.661745",
     "exception": false,
     "start_time": "2024-04-30T02:20:58.601750",
     "status": "completed"
    },
    "tags": []
   },
   "outputs": [
    {
     "data": {
      "text/html": [
       "<div>\n",
       "<style scoped>\n",
       "    .dataframe tbody tr th:only-of-type {\n",
       "        vertical-align: middle;\n",
       "    }\n",
       "\n",
       "    .dataframe tbody tr th {\n",
       "        vertical-align: top;\n",
       "    }\n",
       "\n",
       "    .dataframe thead th {\n",
       "        text-align: right;\n",
       "    }\n",
       "</style>\n",
       "<table border=\"1\" class=\"dataframe\">\n",
       "  <thead>\n",
       "    <tr style=\"text-align: right;\">\n",
       "      <th></th>\n",
       "      <th>Prospect ID</th>\n",
       "      <th>Lead Number</th>\n",
       "      <th>Lead Origin</th>\n",
       "      <th>Lead Source</th>\n",
       "      <th>Do Not Email</th>\n",
       "      <th>Do Not Call</th>\n",
       "      <th>Converted</th>\n",
       "      <th>TotalVisits</th>\n",
       "      <th>Total Time Spent on Website</th>\n",
       "      <th>Page Views Per Visit</th>\n",
       "      <th>...</th>\n",
       "      <th>Get updates on DM Content</th>\n",
       "      <th>Lead Profile</th>\n",
       "      <th>City</th>\n",
       "      <th>Asymmetrique Activity Index</th>\n",
       "      <th>Asymmetrique Profile Index</th>\n",
       "      <th>Asymmetrique Activity Score</th>\n",
       "      <th>Asymmetrique Profile Score</th>\n",
       "      <th>I agree to pay the amount through cheque</th>\n",
       "      <th>A free copy of Mastering The Interview</th>\n",
       "      <th>Last Notable Activity</th>\n",
       "    </tr>\n",
       "  </thead>\n",
       "  <tbody>\n",
       "    <tr>\n",
       "      <th>0</th>\n",
       "      <td>7927b2df-8bba-4d29-b9a2-b6e0beafe620</td>\n",
       "      <td>660737</td>\n",
       "      <td>API</td>\n",
       "      <td>Olark Chat</td>\n",
       "      <td>No</td>\n",
       "      <td>No</td>\n",
       "      <td>0</td>\n",
       "      <td>0.0</td>\n",
       "      <td>0</td>\n",
       "      <td>0.0</td>\n",
       "      <td>...</td>\n",
       "      <td>No</td>\n",
       "      <td>Select</td>\n",
       "      <td>Select</td>\n",
       "      <td>02.Medium</td>\n",
       "      <td>02.Medium</td>\n",
       "      <td>15.0</td>\n",
       "      <td>15.0</td>\n",
       "      <td>No</td>\n",
       "      <td>No</td>\n",
       "      <td>Modified</td>\n",
       "    </tr>\n",
       "    <tr>\n",
       "      <th>1</th>\n",
       "      <td>2a272436-5132-4136-86fa-dcc88c88f482</td>\n",
       "      <td>660728</td>\n",
       "      <td>API</td>\n",
       "      <td>Organic Search</td>\n",
       "      <td>No</td>\n",
       "      <td>No</td>\n",
       "      <td>0</td>\n",
       "      <td>5.0</td>\n",
       "      <td>674</td>\n",
       "      <td>2.5</td>\n",
       "      <td>...</td>\n",
       "      <td>No</td>\n",
       "      <td>Select</td>\n",
       "      <td>Select</td>\n",
       "      <td>02.Medium</td>\n",
       "      <td>02.Medium</td>\n",
       "      <td>15.0</td>\n",
       "      <td>15.0</td>\n",
       "      <td>No</td>\n",
       "      <td>No</td>\n",
       "      <td>Email Opened</td>\n",
       "    </tr>\n",
       "    <tr>\n",
       "      <th>2</th>\n",
       "      <td>8cc8c611-a219-4f35-ad23-fdfd2656bd8a</td>\n",
       "      <td>660727</td>\n",
       "      <td>Landing Page Submission</td>\n",
       "      <td>Direct Traffic</td>\n",
       "      <td>No</td>\n",
       "      <td>No</td>\n",
       "      <td>1</td>\n",
       "      <td>2.0</td>\n",
       "      <td>1532</td>\n",
       "      <td>2.0</td>\n",
       "      <td>...</td>\n",
       "      <td>No</td>\n",
       "      <td>Potential Lead</td>\n",
       "      <td>Mumbai</td>\n",
       "      <td>02.Medium</td>\n",
       "      <td>01.High</td>\n",
       "      <td>14.0</td>\n",
       "      <td>20.0</td>\n",
       "      <td>No</td>\n",
       "      <td>Yes</td>\n",
       "      <td>Email Opened</td>\n",
       "    </tr>\n",
       "    <tr>\n",
       "      <th>3</th>\n",
       "      <td>0cc2df48-7cf4-4e39-9de9-19797f9b38cc</td>\n",
       "      <td>660719</td>\n",
       "      <td>Landing Page Submission</td>\n",
       "      <td>Direct Traffic</td>\n",
       "      <td>No</td>\n",
       "      <td>No</td>\n",
       "      <td>0</td>\n",
       "      <td>1.0</td>\n",
       "      <td>305</td>\n",
       "      <td>1.0</td>\n",
       "      <td>...</td>\n",
       "      <td>No</td>\n",
       "      <td>Select</td>\n",
       "      <td>Mumbai</td>\n",
       "      <td>02.Medium</td>\n",
       "      <td>01.High</td>\n",
       "      <td>13.0</td>\n",
       "      <td>17.0</td>\n",
       "      <td>No</td>\n",
       "      <td>No</td>\n",
       "      <td>Modified</td>\n",
       "    </tr>\n",
       "    <tr>\n",
       "      <th>4</th>\n",
       "      <td>3256f628-e534-4826-9d63-4a8b88782852</td>\n",
       "      <td>660681</td>\n",
       "      <td>Landing Page Submission</td>\n",
       "      <td>Google</td>\n",
       "      <td>No</td>\n",
       "      <td>No</td>\n",
       "      <td>1</td>\n",
       "      <td>2.0</td>\n",
       "      <td>1428</td>\n",
       "      <td>1.0</td>\n",
       "      <td>...</td>\n",
       "      <td>No</td>\n",
       "      <td>Select</td>\n",
       "      <td>Mumbai</td>\n",
       "      <td>02.Medium</td>\n",
       "      <td>01.High</td>\n",
       "      <td>15.0</td>\n",
       "      <td>18.0</td>\n",
       "      <td>No</td>\n",
       "      <td>No</td>\n",
       "      <td>Modified</td>\n",
       "    </tr>\n",
       "  </tbody>\n",
       "</table>\n",
       "<p>5 rows × 37 columns</p>\n",
       "</div>"
      ],
      "text/plain": [
       "                            Prospect ID  Lead Number              Lead Origin  \\\n",
       "0  7927b2df-8bba-4d29-b9a2-b6e0beafe620       660737                      API   \n",
       "1  2a272436-5132-4136-86fa-dcc88c88f482       660728                      API   \n",
       "2  8cc8c611-a219-4f35-ad23-fdfd2656bd8a       660727  Landing Page Submission   \n",
       "3  0cc2df48-7cf4-4e39-9de9-19797f9b38cc       660719  Landing Page Submission   \n",
       "4  3256f628-e534-4826-9d63-4a8b88782852       660681  Landing Page Submission   \n",
       "\n",
       "      Lead Source Do Not Email Do Not Call  Converted  TotalVisits  \\\n",
       "0      Olark Chat           No          No          0          0.0   \n",
       "1  Organic Search           No          No          0          5.0   \n",
       "2  Direct Traffic           No          No          1          2.0   \n",
       "3  Direct Traffic           No          No          0          1.0   \n",
       "4          Google           No          No          1          2.0   \n",
       "\n",
       "   Total Time Spent on Website  Page Views Per Visit  ...  \\\n",
       "0                            0                   0.0  ...   \n",
       "1                          674                   2.5  ...   \n",
       "2                         1532                   2.0  ...   \n",
       "3                          305                   1.0  ...   \n",
       "4                         1428                   1.0  ...   \n",
       "\n",
       "  Get updates on DM Content    Lead Profile    City  \\\n",
       "0                        No          Select  Select   \n",
       "1                        No          Select  Select   \n",
       "2                        No  Potential Lead  Mumbai   \n",
       "3                        No          Select  Mumbai   \n",
       "4                        No          Select  Mumbai   \n",
       "\n",
       "  Asymmetrique Activity Index Asymmetrique Profile Index  \\\n",
       "0                   02.Medium                  02.Medium   \n",
       "1                   02.Medium                  02.Medium   \n",
       "2                   02.Medium                    01.High   \n",
       "3                   02.Medium                    01.High   \n",
       "4                   02.Medium                    01.High   \n",
       "\n",
       "  Asymmetrique Activity Score Asymmetrique Profile Score  \\\n",
       "0                        15.0                       15.0   \n",
       "1                        15.0                       15.0   \n",
       "2                        14.0                       20.0   \n",
       "3                        13.0                       17.0   \n",
       "4                        15.0                       18.0   \n",
       "\n",
       "  I agree to pay the amount through cheque  \\\n",
       "0                                       No   \n",
       "1                                       No   \n",
       "2                                       No   \n",
       "3                                       No   \n",
       "4                                       No   \n",
       "\n",
       "  A free copy of Mastering The Interview Last Notable Activity  \n",
       "0                                     No              Modified  \n",
       "1                                     No          Email Opened  \n",
       "2                                    Yes          Email Opened  \n",
       "3                                     No              Modified  \n",
       "4                                     No              Modified  \n",
       "\n",
       "[5 rows x 37 columns]"
      ]
     },
     "execution_count": 3,
     "metadata": {},
     "output_type": "execute_result"
    }
   ],
   "source": [
    "data.head()"
   ]
  },
  {
   "cell_type": "code",
   "execution_count": 4,
   "id": "a2818ea8",
   "metadata": {
    "execution": {
     "iopub.execute_input": "2024-04-30T02:20:58.682750Z",
     "iopub.status.busy": "2024-04-30T02:20:58.682367Z",
     "iopub.status.idle": "2024-04-30T02:20:58.688874Z",
     "shell.execute_reply": "2024-04-30T02:20:58.687717Z"
    },
    "papermill": {
     "duration": 0.020183,
     "end_time": "2024-04-30T02:20:58.691143",
     "exception": false,
     "start_time": "2024-04-30T02:20:58.670960",
     "status": "completed"
    },
    "tags": []
   },
   "outputs": [
    {
     "data": {
      "text/plain": [
       "(9240, 37)"
      ]
     },
     "execution_count": 4,
     "metadata": {},
     "output_type": "execute_result"
    }
   ],
   "source": [
    "data.shape"
   ]
  },
  {
   "cell_type": "code",
   "execution_count": 5,
   "id": "cdd5cd48",
   "metadata": {
    "execution": {
     "iopub.execute_input": "2024-04-30T02:20:58.711415Z",
     "iopub.status.busy": "2024-04-30T02:20:58.711025Z",
     "iopub.status.idle": "2024-04-30T02:20:58.745658Z",
     "shell.execute_reply": "2024-04-30T02:20:58.744529Z"
    },
    "papermill": {
     "duration": 0.047622,
     "end_time": "2024-04-30T02:20:58.748004",
     "exception": false,
     "start_time": "2024-04-30T02:20:58.700382",
     "status": "completed"
    },
    "tags": []
   },
   "outputs": [
    {
     "name": "stdout",
     "output_type": "stream",
     "text": [
      "<class 'pandas.core.frame.DataFrame'>\n",
      "RangeIndex: 9240 entries, 0 to 9239\n",
      "Data columns (total 37 columns):\n",
      " #   Column                                         Non-Null Count  Dtype  \n",
      "---  ------                                         --------------  -----  \n",
      " 0   Prospect ID                                    9240 non-null   object \n",
      " 1   Lead Number                                    9240 non-null   int64  \n",
      " 2   Lead Origin                                    9240 non-null   object \n",
      " 3   Lead Source                                    9204 non-null   object \n",
      " 4   Do Not Email                                   9240 non-null   object \n",
      " 5   Do Not Call                                    9240 non-null   object \n",
      " 6   Converted                                      9240 non-null   int64  \n",
      " 7   TotalVisits                                    9103 non-null   float64\n",
      " 8   Total Time Spent on Website                    9240 non-null   int64  \n",
      " 9   Page Views Per Visit                           9103 non-null   float64\n",
      " 10  Last Activity                                  9137 non-null   object \n",
      " 11  Country                                        6779 non-null   object \n",
      " 12  Specialization                                 7802 non-null   object \n",
      " 13  How did you hear about X Education             7033 non-null   object \n",
      " 14  What is your current occupation                6550 non-null   object \n",
      " 15  What matters most to you in choosing a course  6531 non-null   object \n",
      " 16  Search                                         9240 non-null   object \n",
      " 17  Magazine                                       9240 non-null   object \n",
      " 18  Newspaper Article                              9240 non-null   object \n",
      " 19  X Education Forums                             9240 non-null   object \n",
      " 20  Newspaper                                      9240 non-null   object \n",
      " 21  Digital Advertisement                          9240 non-null   object \n",
      " 22  Through Recommendations                        9240 non-null   object \n",
      " 23  Receive More Updates About Our Courses         9240 non-null   object \n",
      " 24  Tags                                           5887 non-null   object \n",
      " 25  Lead Quality                                   4473 non-null   object \n",
      " 26  Update me on Supply Chain Content              9240 non-null   object \n",
      " 27  Get updates on DM Content                      9240 non-null   object \n",
      " 28  Lead Profile                                   6531 non-null   object \n",
      " 29  City                                           7820 non-null   object \n",
      " 30  Asymmetrique Activity Index                    5022 non-null   object \n",
      " 31  Asymmetrique Profile Index                     5022 non-null   object \n",
      " 32  Asymmetrique Activity Score                    5022 non-null   float64\n",
      " 33  Asymmetrique Profile Score                     5022 non-null   float64\n",
      " 34  I agree to pay the amount through cheque       9240 non-null   object \n",
      " 35  A free copy of Mastering The Interview         9240 non-null   object \n",
      " 36  Last Notable Activity                          9240 non-null   object \n",
      "dtypes: float64(4), int64(3), object(30)\n",
      "memory usage: 2.6+ MB\n"
     ]
    }
   ],
   "source": [
    "data.info()"
   ]
  },
  {
   "cell_type": "code",
   "execution_count": 6,
   "id": "084c8a9d",
   "metadata": {
    "execution": {
     "iopub.execute_input": "2024-04-30T02:20:58.769087Z",
     "iopub.status.busy": "2024-04-30T02:20:58.768717Z",
     "iopub.status.idle": "2024-04-30T02:20:58.790968Z",
     "shell.execute_reply": "2024-04-30T02:20:58.789897Z"
    },
    "papermill": {
     "duration": 0.035279,
     "end_time": "2024-04-30T02:20:58.793106",
     "exception": false,
     "start_time": "2024-04-30T02:20:58.757827",
     "status": "completed"
    },
    "tags": []
   },
   "outputs": [
    {
     "data": {
      "text/plain": [
       "Prospect ID                                         0\n",
       "Lead Number                                         0\n",
       "Lead Origin                                         0\n",
       "Lead Source                                        36\n",
       "Do Not Email                                        0\n",
       "Do Not Call                                         0\n",
       "Converted                                           0\n",
       "TotalVisits                                       137\n",
       "Total Time Spent on Website                         0\n",
       "Page Views Per Visit                              137\n",
       "Last Activity                                     103\n",
       "Country                                          2461\n",
       "Specialization                                   1438\n",
       "How did you hear about X Education               2207\n",
       "What is your current occupation                  2690\n",
       "What matters most to you in choosing a course    2709\n",
       "Search                                              0\n",
       "Magazine                                            0\n",
       "Newspaper Article                                   0\n",
       "X Education Forums                                  0\n",
       "Newspaper                                           0\n",
       "Digital Advertisement                               0\n",
       "Through Recommendations                             0\n",
       "Receive More Updates About Our Courses              0\n",
       "Tags                                             3353\n",
       "Lead Quality                                     4767\n",
       "Update me on Supply Chain Content                   0\n",
       "Get updates on DM Content                           0\n",
       "Lead Profile                                     2709\n",
       "City                                             1420\n",
       "Asymmetrique Activity Index                      4218\n",
       "Asymmetrique Profile Index                       4218\n",
       "Asymmetrique Activity Score                      4218\n",
       "Asymmetrique Profile Score                       4218\n",
       "I agree to pay the amount through cheque            0\n",
       "A free copy of Mastering The Interview              0\n",
       "Last Notable Activity                               0\n",
       "dtype: int64"
      ]
     },
     "execution_count": 6,
     "metadata": {},
     "output_type": "execute_result"
    }
   ],
   "source": [
    "data.isnull().sum()"
   ]
  },
  {
   "cell_type": "code",
   "execution_count": 7,
   "id": "ae52c74f",
   "metadata": {
    "execution": {
     "iopub.execute_input": "2024-04-30T02:20:58.813478Z",
     "iopub.status.busy": "2024-04-30T02:20:58.812989Z",
     "iopub.status.idle": "2024-04-30T02:20:58.835212Z",
     "shell.execute_reply": "2024-04-30T02:20:58.833978Z"
    },
    "papermill": {
     "duration": 0.035282,
     "end_time": "2024-04-30T02:20:58.837791",
     "exception": false,
     "start_time": "2024-04-30T02:20:58.802509",
     "status": "completed"
    },
    "tags": []
   },
   "outputs": [],
   "source": [
    "data.dropna(inplace=True)"
   ]
  },
  {
   "cell_type": "code",
   "execution_count": 8,
   "id": "52fba530",
   "metadata": {
    "execution": {
     "iopub.execute_input": "2024-04-30T02:20:58.858623Z",
     "iopub.status.busy": "2024-04-30T02:20:58.858193Z",
     "iopub.status.idle": "2024-04-30T02:20:58.864497Z",
     "shell.execute_reply": "2024-04-30T02:20:58.863638Z"
    },
    "papermill": {
     "duration": 0.01886,
     "end_time": "2024-04-30T02:20:58.866428",
     "exception": false,
     "start_time": "2024-04-30T02:20:58.847568",
     "status": "completed"
    },
    "tags": []
   },
   "outputs": [
    {
     "data": {
      "text/plain": [
       "(1943, 37)"
      ]
     },
     "execution_count": 8,
     "metadata": {},
     "output_type": "execute_result"
    }
   ],
   "source": [
    "data.shape"
   ]
  },
  {
   "cell_type": "markdown",
   "id": "9743126e",
   "metadata": {
    "papermill": {
     "duration": 0.008948,
     "end_time": "2024-04-30T02:20:58.884817",
     "exception": false,
     "start_time": "2024-04-30T02:20:58.875869",
     "status": "completed"
    },
    "tags": []
   },
   "source": [
    "# data cleaning"
   ]
  },
  {
   "cell_type": "code",
   "execution_count": 9,
   "id": "b75a5c7f",
   "metadata": {
    "execution": {
     "iopub.execute_input": "2024-04-30T02:20:58.907930Z",
     "iopub.status.busy": "2024-04-30T02:20:58.907507Z",
     "iopub.status.idle": "2024-04-30T02:20:58.914491Z",
     "shell.execute_reply": "2024-04-30T02:20:58.913504Z"
    },
    "papermill": {
     "duration": 0.020308,
     "end_time": "2024-04-30T02:20:58.916795",
     "exception": false,
     "start_time": "2024-04-30T02:20:58.896487",
     "status": "completed"
    },
    "tags": []
   },
   "outputs": [],
   "source": [
    "data = data.drop(columns=['Prospect ID', 'Lead Number', 'Lead Quality', 'What matters most to you in choosing a course', 'Asymmetrique Activity Index', 'Asymmetrique Profile Index', 'Asymmetrique Activity Score', 'Asymmetrique Profile Score'])"
   ]
  },
  {
   "cell_type": "code",
   "execution_count": 10,
   "id": "08044da2",
   "metadata": {
    "execution": {
     "iopub.execute_input": "2024-04-30T02:20:58.937743Z",
     "iopub.status.busy": "2024-04-30T02:20:58.937374Z",
     "iopub.status.idle": "2024-04-30T02:20:58.943627Z",
     "shell.execute_reply": "2024-04-30T02:20:58.942777Z"
    },
    "papermill": {
     "duration": 0.018911,
     "end_time": "2024-04-30T02:20:58.945441",
     "exception": false,
     "start_time": "2024-04-30T02:20:58.926530",
     "status": "completed"
    },
    "tags": []
   },
   "outputs": [
    {
     "data": {
      "text/plain": [
       "array(['Direct Traffic', 'Google', 'Organic Search', 'Referral Sites',\n",
       "       'Olark Chat', 'Social Media', 'Reference', 'WeLearn',\n",
       "       'Press_Release'], dtype=object)"
      ]
     },
     "execution_count": 10,
     "metadata": {},
     "output_type": "execute_result"
    }
   ],
   "source": [
    "data['Lead Source'].unique()"
   ]
  },
  {
   "cell_type": "code",
   "execution_count": 11,
   "id": "c374155a",
   "metadata": {
    "execution": {
     "iopub.execute_input": "2024-04-30T02:20:58.966619Z",
     "iopub.status.busy": "2024-04-30T02:20:58.965863Z",
     "iopub.status.idle": "2024-04-30T02:20:58.972261Z",
     "shell.execute_reply": "2024-04-30T02:20:58.971433Z"
    },
    "papermill": {
     "duration": 0.019583,
     "end_time": "2024-04-30T02:20:58.974544",
     "exception": false,
     "start_time": "2024-04-30T02:20:58.954961",
     "status": "completed"
    },
    "tags": []
   },
   "outputs": [
    {
     "name": "stderr",
     "output_type": "stream",
     "text": [
      "/tmp/ipykernel_18/1469115540.py:1: FutureWarning: A value is trying to be set on a copy of a DataFrame or Series through chained assignment using an inplace method.\n",
      "The behavior will change in pandas 3.0. This inplace method will never work because the intermediate object on which we are setting values always behaves as a copy.\n",
      "\n",
      "For example, when doing 'df[col].method(value, inplace=True)', try using 'df.method({col: value}, inplace=True)' or df[col] = df[col].method(value) instead, to perform the operation inplace on the original object.\n",
      "\n",
      "\n",
      "  data['Lead Source'].fillna(data['Lead Source'].mode()[0], inplace=True)\n"
     ]
    }
   ],
   "source": [
    "data['Lead Source'].fillna(data['Lead Source'].mode()[0], inplace=True)"
   ]
  },
  {
   "cell_type": "code",
   "execution_count": 12,
   "id": "c315c478",
   "metadata": {
    "execution": {
     "iopub.execute_input": "2024-04-30T02:20:58.996221Z",
     "iopub.status.busy": "2024-04-30T02:20:58.995814Z",
     "iopub.status.idle": "2024-04-30T02:20:59.006368Z",
     "shell.execute_reply": "2024-04-30T02:20:59.005516Z"
    },
    "papermill": {
     "duration": 0.024143,
     "end_time": "2024-04-30T02:20:59.008438",
     "exception": false,
     "start_time": "2024-04-30T02:20:58.984295",
     "status": "completed"
    },
    "tags": []
   },
   "outputs": [
    {
     "data": {
      "text/plain": [
       "array([ 2.,  1.,  8., 11.,  6.,  3.,  4.,  7.,  5., 13., 10., 12.,  9.,\n",
       "       14., 17., 21., 15., 18., 43., 16., 20., 27., 29.,  0., 23., 24.,\n",
       "       19., 42., 25.])"
      ]
     },
     "execution_count": 12,
     "metadata": {},
     "output_type": "execute_result"
    }
   ],
   "source": [
    "data['TotalVisits'].unique()"
   ]
  },
  {
   "cell_type": "code",
   "execution_count": 13,
   "id": "31c742bd",
   "metadata": {
    "execution": {
     "iopub.execute_input": "2024-04-30T02:20:59.029891Z",
     "iopub.status.busy": "2024-04-30T02:20:59.029483Z",
     "iopub.status.idle": "2024-04-30T02:20:59.037936Z",
     "shell.execute_reply": "2024-04-30T02:20:59.036832Z"
    },
    "papermill": {
     "duration": 0.021636,
     "end_time": "2024-04-30T02:20:59.040104",
     "exception": false,
     "start_time": "2024-04-30T02:20:59.018468",
     "status": "completed"
    },
    "tags": []
   },
   "outputs": [
    {
     "data": {
      "text/plain": [
       "array([ 2.  ,  1.  ,  8.  , 11.  ,  6.  ,  3.  ,  1.33,  4.  ,  1.5 ,\n",
       "        3.5 ,  5.  ,  7.  , 13.  ,  5.5 ,  2.5 ,  3.33,  2.67,  1.67,\n",
       "        1.8 ,  4.5 ,  2.33,  6.5 ,  4.33, 14.  ,  3.4 ,  1.75,  2.63,\n",
       "       10.  , 15.  ,  2.25,  1.43,  9.  ,  3.67,  2.57,  2.75,  2.8 ,\n",
       "        3.91,  3.25,  3.2 ,  2.17,  2.6 ,  2.4 ,  2.22,  1.83,  1.56,\n",
       "        5.4 ,  1.6 ,  2.9 ,  0.  ,  1.25,  3.83,  1.4 ,  2.71, 12.  ,\n",
       "        3.43,  2.56,  6.33,  1.64,  1.57,  1.22,  1.38,  1.54,  2.13,\n",
       "        2.14,  3.75,  2.45,  2.2 ,  1.63,  4.25,  1.71,  1.17, 14.5 ,\n",
       "        3.8 ,  3.82,  5.67,  1.93,  2.08,  2.83])"
      ]
     },
     "execution_count": 13,
     "metadata": {},
     "output_type": "execute_result"
    }
   ],
   "source": [
    "data['Page Views Per Visit'].unique()"
   ]
  },
  {
   "cell_type": "code",
   "execution_count": 14,
   "id": "991dd5fa",
   "metadata": {
    "execution": {
     "iopub.execute_input": "2024-04-30T02:20:59.062869Z",
     "iopub.status.busy": "2024-04-30T02:20:59.062477Z",
     "iopub.status.idle": "2024-04-30T02:20:59.070634Z",
     "shell.execute_reply": "2024-04-30T02:20:59.069235Z"
    },
    "papermill": {
     "duration": 0.022496,
     "end_time": "2024-04-30T02:20:59.073234",
     "exception": false,
     "start_time": "2024-04-30T02:20:59.050738",
     "status": "completed"
    },
    "tags": []
   },
   "outputs": [
    {
     "data": {
      "text/plain": [
       "array(['Email Opened', 'Unreachable', 'Converted to Lead',\n",
       "       'Email Link Clicked', 'Page Visited on Website',\n",
       "       'Form Submitted on Website', 'Unsubscribed',\n",
       "       'Had a Phone Conversation', 'Email Bounced',\n",
       "       'Olark Chat Conversation', 'SMS Sent',\n",
       "       'Visited Booth in Tradeshow', 'Approached upfront',\n",
       "       'Email Received', 'Email Marked Spam'], dtype=object)"
      ]
     },
     "execution_count": 14,
     "metadata": {},
     "output_type": "execute_result"
    }
   ],
   "source": [
    "data['Last Activity'].unique()"
   ]
  },
  {
   "cell_type": "code",
   "execution_count": 15,
   "id": "398a7e20",
   "metadata": {
    "execution": {
     "iopub.execute_input": "2024-04-30T02:20:59.096508Z",
     "iopub.status.busy": "2024-04-30T02:20:59.096086Z",
     "iopub.status.idle": "2024-04-30T02:20:59.104668Z",
     "shell.execute_reply": "2024-04-30T02:20:59.103238Z"
    },
    "papermill": {
     "duration": 0.02365,
     "end_time": "2024-04-30T02:20:59.107105",
     "exception": false,
     "start_time": "2024-04-30T02:20:59.083455",
     "status": "completed"
    },
    "tags": []
   },
   "outputs": [
    {
     "data": {
      "text/plain": [
       "array(['Business Administration', 'Media and Advertising', 'Select',\n",
       "       'Supply Chain Management', 'Travel and Tourism',\n",
       "       'Marketing Management', 'Banking, Investment And Insurance',\n",
       "       'Finance Management', 'International Business',\n",
       "       'Human Resource Management', 'E-COMMERCE', 'Operations Management',\n",
       "       'Retail Management', 'IT Projects Management',\n",
       "       'Services Excellence', 'Hospitality Management', 'E-Business',\n",
       "       'Healthcare Management', 'Rural and Agribusiness'], dtype=object)"
      ]
     },
     "execution_count": 15,
     "metadata": {},
     "output_type": "execute_result"
    }
   ],
   "source": [
    "data['Specialization'].unique()"
   ]
  },
  {
   "cell_type": "code",
   "execution_count": 16,
   "id": "04311304",
   "metadata": {
    "execution": {
     "iopub.execute_input": "2024-04-30T02:20:59.130862Z",
     "iopub.status.busy": "2024-04-30T02:20:59.130429Z",
     "iopub.status.idle": "2024-04-30T02:20:59.138544Z",
     "shell.execute_reply": "2024-04-30T02:20:59.137339Z"
    },
    "papermill": {
     "duration": 0.022612,
     "end_time": "2024-04-30T02:20:59.140747",
     "exception": false,
     "start_time": "2024-04-30T02:20:59.118135",
     "status": "completed"
    },
    "tags": []
   },
   "outputs": [
    {
     "data": {
      "text/plain": [
       "array(['India', 'United Arab Emirates', 'United States', 'Bahrain',\n",
       "       'United Kingdom', 'Qatar', 'Australia', 'Ghana', 'Singapore',\n",
       "       'Saudi Arabia', 'Kuwait', 'France', 'Netherlands', 'Sweden',\n",
       "       'Germany', 'Hong Kong', 'Italy', 'Denmark', 'Canada', 'Indonesia',\n",
       "       'South Africa', 'China', 'Bangladesh'], dtype=object)"
      ]
     },
     "execution_count": 16,
     "metadata": {},
     "output_type": "execute_result"
    }
   ],
   "source": [
    "data['Country'].unique()"
   ]
  },
  {
   "cell_type": "code",
   "execution_count": 17,
   "id": "f3c228b0",
   "metadata": {
    "execution": {
     "iopub.execute_input": "2024-04-30T02:20:59.163541Z",
     "iopub.status.busy": "2024-04-30T02:20:59.163145Z",
     "iopub.status.idle": "2024-04-30T02:20:59.171768Z",
     "shell.execute_reply": "2024-04-30T02:20:59.170651Z"
    },
    "papermill": {
     "duration": 0.022879,
     "end_time": "2024-04-30T02:20:59.173993",
     "exception": false,
     "start_time": "2024-04-30T02:20:59.151114",
     "status": "completed"
    },
    "tags": []
   },
   "outputs": [
    {
     "data": {
      "text/plain": [
       "array(['Will revert after reading the email', 'Ringing',\n",
       "       'Interested in other courses',\n",
       "       'In confusion whether part time or DLP', 'Busy',\n",
       "       'Already a student', 'Diploma holder (Not Eligible)',\n",
       "       'Graduation in progress', 'switched off', 'Lost to EINS',\n",
       "       'number not provided', 'invalid number',\n",
       "       'Interested  in full time MBA', 'Closed by Horizzon',\n",
       "       'Not doing further education', 'wrong number given', 'opp hangup',\n",
       "       'Still Thinking', 'in touch with EINS', 'Lost to Others',\n",
       "       'Want to take admission but has financial problems',\n",
       "       'Interested in Next batch', 'Lateral student'], dtype=object)"
      ]
     },
     "execution_count": 17,
     "metadata": {},
     "output_type": "execute_result"
    }
   ],
   "source": [
    "data['Tags'].unique()"
   ]
  },
  {
   "cell_type": "code",
   "execution_count": 18,
   "id": "5f01d9ca",
   "metadata": {
    "execution": {
     "iopub.execute_input": "2024-04-30T02:20:59.196867Z",
     "iopub.status.busy": "2024-04-30T02:20:59.196486Z",
     "iopub.status.idle": "2024-04-30T02:20:59.203678Z",
     "shell.execute_reply": "2024-04-30T02:20:59.202510Z"
    },
    "papermill": {
     "duration": 0.021244,
     "end_time": "2024-04-30T02:20:59.205826",
     "exception": false,
     "start_time": "2024-04-30T02:20:59.184582",
     "status": "completed"
    },
    "tags": []
   },
   "outputs": [
    {
     "data": {
      "text/plain": [
       "array(['Mumbai', 'Other Metro Cities', 'Select', 'Other Cities',\n",
       "       'Thane & Outskirts', 'Other Cities of Maharashtra',\n",
       "       'Tier II Cities'], dtype=object)"
      ]
     },
     "execution_count": 18,
     "metadata": {},
     "output_type": "execute_result"
    }
   ],
   "source": [
    "data['City'].unique()"
   ]
  },
  {
   "cell_type": "code",
   "execution_count": 19,
   "id": "f5dbe083",
   "metadata": {
    "execution": {
     "iopub.execute_input": "2024-04-30T02:20:59.229063Z",
     "iopub.status.busy": "2024-04-30T02:20:59.228213Z",
     "iopub.status.idle": "2024-04-30T02:20:59.235562Z",
     "shell.execute_reply": "2024-04-30T02:20:59.234342Z"
    },
    "papermill": {
     "duration": 0.021362,
     "end_time": "2024-04-30T02:20:59.237964",
     "exception": false,
     "start_time": "2024-04-30T02:20:59.216602",
     "status": "completed"
    },
    "tags": []
   },
   "outputs": [],
   "source": [
    "data = data.drop(columns=['Lead Profile', 'What is your current occupation', 'How did you hear about X Education'])"
   ]
  },
  {
   "cell_type": "code",
   "execution_count": 20,
   "id": "ef7ac81c",
   "metadata": {
    "execution": {
     "iopub.execute_input": "2024-04-30T02:20:59.261357Z",
     "iopub.status.busy": "2024-04-30T02:20:59.260932Z",
     "iopub.status.idle": "2024-04-30T02:20:59.272147Z",
     "shell.execute_reply": "2024-04-30T02:20:59.271113Z"
    },
    "papermill": {
     "duration": 0.025856,
     "end_time": "2024-04-30T02:20:59.274435",
     "exception": false,
     "start_time": "2024-04-30T02:20:59.248579",
     "status": "completed"
    },
    "tags": []
   },
   "outputs": [
    {
     "data": {
      "text/plain": [
       "Lead Origin                                 0\n",
       "Lead Source                                 0\n",
       "Do Not Email                                0\n",
       "Do Not Call                                 0\n",
       "Converted                                   0\n",
       "TotalVisits                                 0\n",
       "Total Time Spent on Website                 0\n",
       "Page Views Per Visit                        0\n",
       "Last Activity                               0\n",
       "Country                                     0\n",
       "Specialization                              0\n",
       "Search                                      0\n",
       "Magazine                                    0\n",
       "Newspaper Article                           0\n",
       "X Education Forums                          0\n",
       "Newspaper                                   0\n",
       "Digital Advertisement                       0\n",
       "Through Recommendations                     0\n",
       "Receive More Updates About Our Courses      0\n",
       "Tags                                        0\n",
       "Update me on Supply Chain Content           0\n",
       "Get updates on DM Content                   0\n",
       "City                                        0\n",
       "I agree to pay the amount through cheque    0\n",
       "A free copy of Mastering The Interview      0\n",
       "Last Notable Activity                       0\n",
       "dtype: int64"
      ]
     },
     "execution_count": 20,
     "metadata": {},
     "output_type": "execute_result"
    }
   ],
   "source": [
    "data.isnull().sum()"
   ]
  },
  {
   "cell_type": "code",
   "execution_count": 21,
   "id": "af9f2b99",
   "metadata": {
    "execution": {
     "iopub.execute_input": "2024-04-30T02:20:59.298202Z",
     "iopub.status.busy": "2024-04-30T02:20:59.297786Z",
     "iopub.status.idle": "2024-04-30T02:20:59.303539Z",
     "shell.execute_reply": "2024-04-30T02:20:59.302379Z"
    },
    "papermill": {
     "duration": 0.020101,
     "end_time": "2024-04-30T02:20:59.305848",
     "exception": false,
     "start_time": "2024-04-30T02:20:59.285747",
     "status": "completed"
    },
    "tags": []
   },
   "outputs": [],
   "source": [
    "inp=data.copy()"
   ]
  },
  {
   "cell_type": "code",
   "execution_count": 22,
   "id": "ec748316",
   "metadata": {
    "execution": {
     "iopub.execute_input": "2024-04-30T02:20:59.329253Z",
     "iopub.status.busy": "2024-04-30T02:20:59.328464Z",
     "iopub.status.idle": "2024-04-30T02:20:59.336241Z",
     "shell.execute_reply": "2024-04-30T02:20:59.335121Z"
    },
    "papermill": {
     "duration": 0.021989,
     "end_time": "2024-04-30T02:20:59.338540",
     "exception": false,
     "start_time": "2024-04-30T02:20:59.316551",
     "status": "completed"
    },
    "tags": []
   },
   "outputs": [
    {
     "data": {
      "text/plain": [
       "Index(['Lead Origin', 'Lead Source', 'Do Not Email', 'Do Not Call',\n",
       "       'Converted', 'TotalVisits', 'Total Time Spent on Website',\n",
       "       'Page Views Per Visit', 'Last Activity', 'Country', 'Specialization',\n",
       "       'Search', 'Magazine', 'Newspaper Article', 'X Education Forums',\n",
       "       'Newspaper', 'Digital Advertisement', 'Through Recommendations',\n",
       "       'Receive More Updates About Our Courses', 'Tags',\n",
       "       'Update me on Supply Chain Content', 'Get updates on DM Content',\n",
       "       'City', 'I agree to pay the amount through cheque',\n",
       "       'A free copy of Mastering The Interview', 'Last Notable Activity'],\n",
       "      dtype='object')"
      ]
     },
     "execution_count": 22,
     "metadata": {},
     "output_type": "execute_result"
    }
   ],
   "source": [
    "inp.columns"
   ]
  },
  {
   "cell_type": "code",
   "execution_count": 23,
   "id": "0a6d671f",
   "metadata": {
    "execution": {
     "iopub.execute_input": "2024-04-30T02:20:59.362343Z",
     "iopub.status.busy": "2024-04-30T02:20:59.361943Z",
     "iopub.status.idle": "2024-04-30T02:20:59.388646Z",
     "shell.execute_reply": "2024-04-30T02:20:59.387572Z"
    },
    "papermill": {
     "duration": 0.04149,
     "end_time": "2024-04-30T02:20:59.391175",
     "exception": false,
     "start_time": "2024-04-30T02:20:59.349685",
     "status": "completed"
    },
    "tags": []
   },
   "outputs": [],
   "source": [
    "inp1=pd.get_dummies(inp)"
   ]
  },
  {
   "cell_type": "code",
   "execution_count": 24,
   "id": "6ee19647",
   "metadata": {
    "execution": {
     "iopub.execute_input": "2024-04-30T02:20:59.415374Z",
     "iopub.status.busy": "2024-04-30T02:20:59.414935Z",
     "iopub.status.idle": "2024-04-30T02:20:59.421856Z",
     "shell.execute_reply": "2024-04-30T02:20:59.420535Z"
    },
    "papermill": {
     "duration": 0.021884,
     "end_time": "2024-04-30T02:20:59.424197",
     "exception": false,
     "start_time": "2024-04-30T02:20:59.402313",
     "status": "completed"
    },
    "tags": []
   },
   "outputs": [
    {
     "data": {
      "text/plain": [
       "(1943, 137)"
      ]
     },
     "execution_count": 24,
     "metadata": {},
     "output_type": "execute_result"
    }
   ],
   "source": [
    "inp1.shape"
   ]
  },
  {
   "cell_type": "markdown",
   "id": "b8712738",
   "metadata": {
    "papermill": {
     "duration": 0.011096,
     "end_time": "2024-04-30T02:20:59.446732",
     "exception": false,
     "start_time": "2024-04-30T02:20:59.435636",
     "status": "completed"
    },
    "tags": []
   },
   "source": [
    "# EDA"
   ]
  },
  {
   "cell_type": "code",
   "execution_count": 25,
   "id": "29b44804",
   "metadata": {
    "execution": {
     "iopub.execute_input": "2024-04-30T02:20:59.470903Z",
     "iopub.status.busy": "2024-04-30T02:20:59.470471Z",
     "iopub.status.idle": "2024-04-30T02:20:59.495444Z",
     "shell.execute_reply": "2024-04-30T02:20:59.494272Z"
    },
    "papermill": {
     "duration": 0.039934,
     "end_time": "2024-04-30T02:20:59.498040",
     "exception": false,
     "start_time": "2024-04-30T02:20:59.458106",
     "status": "completed"
    },
    "tags": []
   },
   "outputs": [
    {
     "data": {
      "text/html": [
       "<div>\n",
       "<style scoped>\n",
       "    .dataframe tbody tr th:only-of-type {\n",
       "        vertical-align: middle;\n",
       "    }\n",
       "\n",
       "    .dataframe tbody tr th {\n",
       "        vertical-align: top;\n",
       "    }\n",
       "\n",
       "    .dataframe thead th {\n",
       "        text-align: right;\n",
       "    }\n",
       "</style>\n",
       "<table border=\"1\" class=\"dataframe\">\n",
       "  <thead>\n",
       "    <tr style=\"text-align: right;\">\n",
       "      <th></th>\n",
       "      <th>Converted</th>\n",
       "      <th>TotalVisits</th>\n",
       "      <th>Total Time Spent on Website</th>\n",
       "      <th>Page Views Per Visit</th>\n",
       "    </tr>\n",
       "  </thead>\n",
       "  <tbody>\n",
       "    <tr>\n",
       "      <th>count</th>\n",
       "      <td>1943.000000</td>\n",
       "      <td>1943.000000</td>\n",
       "      <td>1943.000000</td>\n",
       "      <td>1943.000000</td>\n",
       "    </tr>\n",
       "    <tr>\n",
       "      <th>mean</th>\n",
       "      <td>0.536284</td>\n",
       "      <td>4.759650</td>\n",
       "      <td>731.020072</td>\n",
       "      <td>3.198451</td>\n",
       "    </tr>\n",
       "    <tr>\n",
       "      <th>std</th>\n",
       "      <td>0.498810</td>\n",
       "      <td>3.719071</td>\n",
       "      <td>560.086966</td>\n",
       "      <td>1.862994</td>\n",
       "    </tr>\n",
       "    <tr>\n",
       "      <th>min</th>\n",
       "      <td>0.000000</td>\n",
       "      <td>0.000000</td>\n",
       "      <td>0.000000</td>\n",
       "      <td>0.000000</td>\n",
       "    </tr>\n",
       "    <tr>\n",
       "      <th>25%</th>\n",
       "      <td>0.000000</td>\n",
       "      <td>2.000000</td>\n",
       "      <td>213.000000</td>\n",
       "      <td>2.000000</td>\n",
       "    </tr>\n",
       "    <tr>\n",
       "      <th>50%</th>\n",
       "      <td>1.000000</td>\n",
       "      <td>4.000000</td>\n",
       "      <td>640.000000</td>\n",
       "      <td>3.000000</td>\n",
       "    </tr>\n",
       "    <tr>\n",
       "      <th>75%</th>\n",
       "      <td>1.000000</td>\n",
       "      <td>6.000000</td>\n",
       "      <td>1210.500000</td>\n",
       "      <td>4.000000</td>\n",
       "    </tr>\n",
       "    <tr>\n",
       "      <th>max</th>\n",
       "      <td>1.000000</td>\n",
       "      <td>43.000000</td>\n",
       "      <td>2253.000000</td>\n",
       "      <td>15.000000</td>\n",
       "    </tr>\n",
       "  </tbody>\n",
       "</table>\n",
       "</div>"
      ],
      "text/plain": [
       "         Converted  TotalVisits  Total Time Spent on Website  \\\n",
       "count  1943.000000  1943.000000                  1943.000000   \n",
       "mean      0.536284     4.759650                   731.020072   \n",
       "std       0.498810     3.719071                   560.086966   \n",
       "min       0.000000     0.000000                     0.000000   \n",
       "25%       0.000000     2.000000                   213.000000   \n",
       "50%       1.000000     4.000000                   640.000000   \n",
       "75%       1.000000     6.000000                  1210.500000   \n",
       "max       1.000000    43.000000                  2253.000000   \n",
       "\n",
       "       Page Views Per Visit  \n",
       "count           1943.000000  \n",
       "mean               3.198451  \n",
       "std                1.862994  \n",
       "min                0.000000  \n",
       "25%                2.000000  \n",
       "50%                3.000000  \n",
       "75%                4.000000  \n",
       "max               15.000000  "
      ]
     },
     "execution_count": 25,
     "metadata": {},
     "output_type": "execute_result"
    }
   ],
   "source": [
    "data.describe()"
   ]
  },
  {
   "cell_type": "code",
   "execution_count": 26,
   "id": "d4b0ee58",
   "metadata": {
    "execution": {
     "iopub.execute_input": "2024-04-30T02:20:59.522758Z",
     "iopub.status.busy": "2024-04-30T02:20:59.522314Z",
     "iopub.status.idle": "2024-04-30T02:21:00.110593Z",
     "shell.execute_reply": "2024-04-30T02:21:00.109414Z"
    },
    "papermill": {
     "duration": 0.603556,
     "end_time": "2024-04-30T02:21:00.113146",
     "exception": false,
     "start_time": "2024-04-30T02:20:59.509590",
     "status": "completed"
    },
    "tags": []
   },
   "outputs": [
    {
     "name": "stderr",
     "output_type": "stream",
     "text": [
      "/opt/conda/lib/python3.10/site-packages/seaborn/_oldcore.py:1119: FutureWarning: use_inf_as_na option is deprecated and will be removed in a future version. Convert inf values to NaN before operating instead.\n",
      "  with pd.option_context('mode.use_inf_as_na', True):\n",
      "/opt/conda/lib/python3.10/site-packages/seaborn/_oldcore.py:1075: FutureWarning: When grouping with a length-1 list-like, you will need to pass a length-1 tuple to get_group in a future version of pandas. Pass `(name,)` instead of `name` to silence this warning.\n",
      "  data_subset = grouped_data.get_group(pd_key)\n",
      "/opt/conda/lib/python3.10/site-packages/seaborn/_oldcore.py:1075: FutureWarning: When grouping with a length-1 list-like, you will need to pass a length-1 tuple to get_group in a future version of pandas. Pass `(name,)` instead of `name` to silence this warning.\n",
      "  data_subset = grouped_data.get_group(pd_key)\n"
     ]
    },
    {
     "data": {
      "image/png": "[encoded data removed]",
      "text/plain": [
       "<Figure size 800x500 with 1 Axes>"
      ]
     },
     "metadata": {},
     "output_type": "display_data"
    }
   ],
   "source": [
    "plt.figure(figsize=(8, 5))\n",
    "sns.histplot(data=data, x='TotalVisits', bins=20, kde=True, hue='Converted')\n",
    "plt.title('Distribution of TotalVisits by Conversion')\n",
    "plt.xlabel('Total Visits')\n",
    "plt.ylabel('Frequency')\n",
    "plt.show()"
   ]
  },
  {
   "cell_type": "code",
   "execution_count": 27,
   "id": "36a8e410",
   "metadata": {
    "execution": {
     "iopub.execute_input": "2024-04-30T02:21:00.139265Z",
     "iopub.status.busy": "2024-04-30T02:21:00.138893Z",
     "iopub.status.idle": "2024-04-30T02:21:00.454603Z",
     "shell.execute_reply": "2024-04-30T02:21:00.453644Z"
    },
    "papermill": {
     "duration": 0.331627,
     "end_time": "2024-04-30T02:21:00.457171",
     "exception": false,
     "start_time": "2024-04-30T02:21:00.125544",
     "status": "completed"
    },
    "tags": []
   },
   "outputs": [
    {
     "data": {
      "image/png": "[encoded data removed]",
      "text/plain": [
       "<Figure size 1000x600 with 1 Axes>"
      ]
     },
     "metadata": {},
     "output_type": "display_data"
    }
   ],
   "source": [
    "plt.figure(figsize=(10, 6))\n",
    "sns.countplot(data=data, x='Lead Source', order=data['Lead Source'].value_counts().index)\n",
    "plt.title('Count of Leads by Source')\n",
    "plt.xticks(rotation=90)\n",
    "plt.xlabel('Lead Source')\n",
    "plt.ylabel('Count')\n",
    "plt.show()"
   ]
  },
  {
   "cell_type": "code",
   "execution_count": 28,
   "id": "c9da6a76",
   "metadata": {
    "execution": {
     "iopub.execute_input": "2024-04-30T02:21:00.486312Z",
     "iopub.status.busy": "2024-04-30T02:21:00.485233Z",
     "iopub.status.idle": "2024-04-30T02:21:00.816364Z",
     "shell.execute_reply": "2024-04-30T02:21:00.815228Z"
    },
    "papermill": {
     "duration": 0.348669,
     "end_time": "2024-04-30T02:21:00.819023",
     "exception": false,
     "start_time": "2024-04-30T02:21:00.470354",
     "status": "completed"
    },
    "tags": []
   },
   "outputs": [
    {
     "data": {
      "image/png": "[encoded data removed]",
      "text/plain": [
       "<Figure size 1000x600 with 1 Axes>"
      ]
     },
     "metadata": {},
     "output_type": "display_data"
    }
   ],
   "source": [
    "plt.figure(figsize=(10, 6))\n",
    "sns.barplot(data=data, x='Lead Origin', y='Converted')\n",
    "plt.title('Conversion Rate by Lead Origin')\n",
    "plt.xticks(rotation=45)\n",
    "plt.xlabel('Lead Origin')\n",
    "plt.ylabel('Conversion Rate')\n",
    "plt.show()"
   ]
  },
  {
   "cell_type": "code",
   "execution_count": 29,
   "id": "29d2a00d",
   "metadata": {
    "execution": {
     "iopub.execute_input": "2024-04-30T02:21:00.909604Z",
     "iopub.status.busy": "2024-04-30T02:21:00.908972Z",
     "iopub.status.idle": "2024-04-30T02:21:01.088040Z",
     "shell.execute_reply": "2024-04-30T02:21:01.086799Z"
    },
    "papermill": {
     "duration": 0.197889,
     "end_time": "2024-04-30T02:21:01.090539",
     "exception": false,
     "start_time": "2024-04-30T02:21:00.892650",
     "status": "completed"
    },
    "tags": []
   },
   "outputs": [
    {
     "data": {
      "image/png": "[encoded data removed]",
      "text/plain": [
       "<Figure size 800x500 with 1 Axes>"
      ]
     },
     "metadata": {},
     "output_type": "display_data"
    }
   ],
   "source": [
    "plt.figure(figsize=(8, 5))\n",
    "sns.boxplot(data=data, x='TotalVisits')\n",
    "plt.title('Boxplot of TotalVisits')\n",
    "plt.xlabel('Total Visits')\n",
    "plt.show()"
   ]
  },
  {
   "cell_type": "markdown",
   "id": "9b93366f",
   "metadata": {
    "papermill": {
     "duration": 0.014938,
     "end_time": "2024-04-30T02:21:01.120052",
     "exception": false,
     "start_time": "2024-04-30T02:21:01.105114",
     "status": "completed"
    },
    "tags": []
   },
   "source": [
    "# LINEAR REGRESSION "
   ]
  },
  {
   "cell_type": "code",
   "execution_count": 30,
   "id": "95634058",
   "metadata": {
    "execution": {
     "iopub.execute_input": "2024-04-30T02:21:01.150391Z",
     "iopub.status.busy": "2024-04-30T02:21:01.149937Z",
     "iopub.status.idle": "2024-04-30T02:21:01.156002Z",
     "shell.execute_reply": "2024-04-30T02:21:01.154825Z"
    },
    "papermill": {
     "duration": 0.024148,
     "end_time": "2024-04-30T02:21:01.158434",
     "exception": false,
     "start_time": "2024-04-30T02:21:01.134286",
     "status": "completed"
    },
    "tags": []
   },
   "outputs": [],
   "source": [
    "y = inp1.pop('Converted')\n",
    "x = inp1"
   ]
  },
  {
   "cell_type": "code",
   "execution_count": 31,
   "id": "fb36f489",
   "metadata": {
    "execution": {
     "iopub.execute_input": "2024-04-30T02:21:01.188813Z",
     "iopub.status.busy": "2024-04-30T02:21:01.188390Z",
     "iopub.status.idle": "2024-04-30T02:21:01.488126Z",
     "shell.execute_reply": "2024-04-30T02:21:01.486935Z"
    },
    "papermill": {
     "duration": 0.318209,
     "end_time": "2024-04-30T02:21:01.490845",
     "exception": false,
     "start_time": "2024-04-30T02:21:01.172636",
     "status": "completed"
    },
    "tags": []
   },
   "outputs": [],
   "source": [
    "from sklearn.model_selection import train_test_split\n",
    "x_train,x_test,y_train,y_test = train_test_split(x,y,test_size=0.3,random_state=41)"
   ]
  },
  {
   "cell_type": "markdown",
   "id": "d8518717",
   "metadata": {
    "papermill": {
     "duration": 0.01336,
     "end_time": "2024-04-30T02:21:01.517845",
     "exception": false,
     "start_time": "2024-04-30T02:21:01.504485",
     "status": "completed"
    },
    "tags": []
   },
   "source": [
    "# apply linear regression "
   ]
  },
  {
   "cell_type": "code",
   "execution_count": 32,
   "id": "61ec5a79",
   "metadata": {
    "execution": {
     "iopub.execute_input": "2024-04-30T02:21:01.547819Z",
     "iopub.status.busy": "2024-04-30T02:21:01.547415Z",
     "iopub.status.idle": "2024-04-30T02:21:01.662787Z",
     "shell.execute_reply": "2024-04-30T02:21:01.661443Z"
    },
    "papermill": {
     "duration": 0.133701,
     "end_time": "2024-04-30T02:21:01.665347",
     "exception": false,
     "start_time": "2024-04-30T02:21:01.531646",
     "status": "completed"
    },
    "tags": []
   },
   "outputs": [],
   "source": [
    "from sklearn.linear_model import LinearRegression\n",
    "linear_reg=LinearRegression()"
   ]
  },
  {
   "cell_type": "code",
   "execution_count": 33,
   "id": "5d89759d",
   "metadata": {
    "execution": {
     "iopub.execute_input": "2024-04-30T02:21:01.697325Z",
     "iopub.status.busy": "2024-04-30T02:21:01.696939Z",
     "iopub.status.idle": "2024-04-30T02:21:01.751394Z",
     "shell.execute_reply": "2024-04-30T02:21:01.750006Z"
    },
    "papermill": {
     "duration": 0.072737,
     "end_time": "2024-04-30T02:21:01.754238",
     "exception": false,
     "start_time": "2024-04-30T02:21:01.681501",
     "status": "completed"
    },
    "tags": []
   },
   "outputs": [
    {
     "data": {
      "text/html": [
       "<style>#sk-container-id-1 {color: black;background-color: white;}#sk-container-id-1 pre{padding: 0;}#sk-container-id-1 div.sk-toggleable {background-color: white;}#sk-container-id-1 label.sk-toggleable__label {cursor: pointer;display: block;width: 100%;margin-bottom: 0;padding: 0.3em;box-sizing: border-box;text-align: center;}#sk-container-id-1 label.sk-toggleable__label-arrow:before {content: \"▸\";float: left;margin-right: 0.25em;color: #696969;}#sk-container-id-1 label.sk-toggleable__label-arrow:hover:before {color: black;}#sk-container-id-1 div.sk-estimator:hover label.sk-toggleable__label-arrow:before {color: black;}#sk-container-id-1 div.sk-toggleable__content {max-height: 0;max-width: 0;overflow: hidden;text-align: left;background-color: #f0f8ff;}#sk-container-id-1 div.sk-toggleable__content pre {margin: 0.2em;color: black;border-radius: 0.25em;background-color: #f0f8ff;}#sk-container-id-1 input.sk-toggleable__control:checked~div.sk-toggleable__content {max-height: 200px;max-width: 100%;overflow: auto;}#sk-container-id-1 input.sk-toggleable__control:checked~label.sk-toggleable__label-arrow:before {content: \"▾\";}#sk-container-id-1 div.sk-estimator input.sk-toggleable__control:checked~label.sk-toggleable__label {background-color: #d4ebff;}#sk-container-id-1 div.sk-label input.sk-toggleable__control:checked~label.sk-toggleable__label {background-color: #d4ebff;}#sk-container-id-1 input.sk-hidden--visually {border: 0;clip: rect(1px 1px 1px 1px);clip: rect(1px, 1px, 1px, 1px);height: 1px;margin: -1px;overflow: hidden;padding: 0;position: absolute;width: 1px;}#sk-container-id-1 div.sk-estimator {font-family: monospace;background-color: #f0f8ff;border: 1px dotted black;border-radius: 0.25em;box-sizing: border-box;margin-bottom: 0.5em;}#sk-container-id-1 div.sk-estimator:hover {background-color: #d4ebff;}#sk-container-id-1 div.sk-parallel-item::after {content: \"\";width: 100%;border-bottom: 1px solid gray;flex-grow: 1;}#sk-container-id-1 div.sk-label:hover label.sk-toggleable__label {background-color: #d4ebff;}#sk-container-id-1 div.sk-serial::before {content: \"\";position: absolute;border-left: 1px solid gray;box-sizing: border-box;top: 0;bottom: 0;left: 50%;z-index: 0;}#sk-container-id-1 div.sk-serial {display: flex;flex-direction: column;align-items: center;background-color: white;padding-right: 0.2em;padding-left: 0.2em;position: relative;}#sk-container-id-1 div.sk-item {position: relative;z-index: 1;}#sk-container-id-1 div.sk-parallel {display: flex;align-items: stretch;justify-content: center;background-color: white;position: relative;}#sk-container-id-1 div.sk-item::before, #sk-container-id-1 div.sk-parallel-item::before {content: \"\";position: absolute;border-left: 1px solid gray;box-sizing: border-box;top: 0;bottom: 0;left: 50%;z-index: -1;}#sk-container-id-1 div.sk-parallel-item {display: flex;flex-direction: column;z-index: 1;position: relative;background-color: white;}#sk-container-id-1 div.sk-parallel-item:first-child::after {align-self: flex-end;width: 50%;}#sk-container-id-1 div.sk-parallel-item:last-child::after {align-self: flex-start;width: 50%;}#sk-container-id-1 div.sk-parallel-item:only-child::after {width: 0;}#sk-container-id-1 div.sk-dashed-wrapped {border: 1px dashed gray;margin: 0 0.4em 0.5em 0.4em;box-sizing: border-box;padding-bottom: 0.4em;background-color: white;}#sk-container-id-1 div.sk-label label {font-family: monospace;font-weight: bold;display: inline-block;line-height: 1.2em;}#sk-container-id-1 div.sk-label-container {text-align: center;}#sk-container-id-1 div.sk-container {/* jupyter's `normalize.less` sets `[hidden] { display: none; }` but bootstrap.min.css set `[hidden] { display: none !important; }` so we also need the `!important` here to be able to override the default hidden behavior on the sphinx rendered scikit-learn.org. See: https://github.com/scikit-learn/scikit-learn/issues/21755 */display: inline-block !important;position: relative;}#sk-container-id-1 div.sk-text-repr-fallback {display: none;}</style><div id=\"sk-container-id-1\" class=\"sk-top-container\"><div class=\"sk-text-repr-fallback\"><pre>LinearRegression()</pre><b>In a Jupyter environment, please rerun this cell to show the HTML representation or trust the notebook. <br />On GitHub, the HTML representation is unable to render, please try loading this page with nbviewer.org.</b></div><div class=\"sk-container\" hidden><div class=\"sk-item\"><div class=\"sk-estimator sk-toggleable\"><input class=\"sk-toggleable__control sk-hidden--visually\" id=\"sk-estimator-id-1\" type=\"checkbox\" checked><label for=\"sk-estimator-id-1\" class=\"sk-toggleable__label sk-toggleable__label-arrow\">LinearRegression</label><div class=\"sk-toggleable__content\"><pre>LinearRegression()</pre></div></div></div></div></div>"
      ],
      "text/plain": [
       "LinearRegression()"
      ]
     },
     "execution_count": 33,
     "metadata": {},
     "output_type": "execute_result"
    }
   ],
   "source": [
    "linear_reg.fit(x_train,y_train)"
   ]
  },
  {
   "cell_type": "code",
   "execution_count": 34,
   "id": "61480679",
   "metadata": {
    "execution": {
     "iopub.execute_input": "2024-04-30T02:21:01.806733Z",
     "iopub.status.busy": "2024-04-30T02:21:01.805132Z",
     "iopub.status.idle": "2024-04-30T02:21:01.820407Z",
     "shell.execute_reply": "2024-04-30T02:21:01.819190Z"
    },
    "papermill": {
     "duration": 0.043819,
     "end_time": "2024-04-30T02:21:01.823717",
     "exception": false,
     "start_time": "2024-04-30T02:21:01.779898",
     "status": "completed"
    },
    "tags": []
   },
   "outputs": [],
   "source": [
    "y_pred=linear_reg.predict(x_test)"
   ]
  },
  {
   "cell_type": "code",
   "execution_count": 35,
   "id": "fe8b3493",
   "metadata": {
    "execution": {
     "iopub.execute_input": "2024-04-30T02:21:01.893555Z",
     "iopub.status.busy": "2024-04-30T02:21:01.892862Z",
     "iopub.status.idle": "2024-04-30T02:21:01.908645Z",
     "shell.execute_reply": "2024-04-30T02:21:01.907362Z"
    },
    "papermill": {
     "duration": 0.050628,
     "end_time": "2024-04-30T02:21:01.916102",
     "exception": false,
     "start_time": "2024-04-30T02:21:01.865474",
     "status": "completed"
    },
    "tags": []
   },
   "outputs": [
    {
     "name": "stdout",
     "output_type": "stream",
     "text": [
      "MSE= 0.04518286473775178\n",
      "R2 score= 0.8186876185023646\n"
     ]
    }
   ],
   "source": [
    "from sklearn.metrics import mean_squared_error\n",
    "from sklearn.metrics import r2_score\n",
    "print(\"MSE=\",mean_squared_error(y_test,y_pred))\n",
    "print(\"R2 score=\",r2_score(y_test,y_pred))"
   ]
  }
 ],
 "metadata": {
  "kaggle": {
   "accelerator": "none",
   "dataSources": [
    {
     "datasetId": 4902180,
     "sourceId": 8259696,
     "sourceType": "datasetVersion"
    }
   ],
   "dockerImageVersionId": 30698,
   "isGpuEnabled": false,
   "isInternetEnabled": false,
   "language": "python",
   "sourceType": "notebook"
  },
  "kernelspec": {
   "display_name": "Python 3",
   "language": "python",
   "name": "python3"
  },
  "language_info": {
   "codemirror_mode": {
    "name": "ipython",
    "version": 3
   },
   "file_extension": ".py",
   "mimetype": "text/x-python",
   "name": "python",
   "nbconvert_exporter": "python",
   "pygments_lexer": "ipython3",
   "version": "3.10.13"
  },
  "papermill": {
   "default_parameters": {},
   "duration": 9.445456,
   "end_time": "2024-04-30T02:21:02.661880",
   "environment_variables": {},
   "exception": null,
   "input_path": "__notebook__.ipynb",
   "output_path": "__notebook__.ipynb",
   "parameters": {},
   "start_time": "2024-04-30T02:20:53.216424",
   "version": "2.5.0"
  }
 },
 "nbformat": 4,
 "nbformat_minor": 5
}
